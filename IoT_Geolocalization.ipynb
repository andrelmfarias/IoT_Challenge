{
 "cells": [
  {
   "cell_type": "markdown",
   "metadata": {},
   "source": [
    "# IoT Challenge - Geolocalization"
   ]
  },
  {
   "cell_type": "code",
   "execution_count": 3,
   "metadata": {
    "ExecuteTime": {
     "end_time": "2019-01-09T19:59:58.840525Z",
     "start_time": "2019-01-09T19:59:58.829962Z"
    }
   },
   "outputs": [],
   "source": [
    "%matplotlib inline\n",
    "import numpy as np\n",
    "import pandas as pd\n",
    "import matplotlib.pyplot as plt\n",
    "from geopy.distance import vincenty\n",
    "\n",
    "import warnings\n",
    "warnings.filterwarnings('ignore')\n",
    "\n",
    "from sklearn.model_selection import train_test_split, KFold\n",
    "from sklearn.ensemble import RandomForestRegressor, ExtraTreesRegressor"
   ]
  },
  {
   "cell_type": "code",
   "execution_count": 4,
   "metadata": {
    "ExecuteTime": {
     "end_time": "2019-01-09T19:59:59.872481Z",
     "start_time": "2019-01-09T19:59:59.707105Z"
    }
   },
   "outputs": [],
   "source": [
    "# load train and test data\n",
    "df_mess_train = pd.read_csv('mess_train_list.csv') # train set\n",
    "df_mess_test = pd.read_csv('mess_test_list.csv') # test set\n",
    "pos_train = pd.read_csv('pos_train_list.csv') # position associated to train set"
   ]
  },
  {
   "cell_type": "markdown",
   "metadata": {},
   "source": [
    "## Data exploration [Théo]"
   ]
  },
  {
   "cell_type": "code",
   "execution_count": null,
   "metadata": {},
   "outputs": [],
   "source": []
  },
  {
   "cell_type": "code",
   "execution_count": null,
   "metadata": {},
   "outputs": [],
   "source": []
  },
  {
   "cell_type": "code",
   "execution_count": null,
   "metadata": {},
   "outputs": [],
   "source": []
  },
  {
   "cell_type": "markdown",
   "metadata": {},
   "source": [
    "## Features Engineering [Mathieu]"
   ]
  },
  {
   "cell_type": "markdown",
   "metadata": {},
   "source": [
    "### \"One Hot encoding\" of the data"
   ]
  },
  {
   "cell_type": "markdown",
   "metadata": {},
   "source": [
    "**NB : the different steps of our feature engineering reflexion are presented below, the function that builds our final feature matrix is defined at the end of this section.**\n",
    "\n",
    "\n",
    "- A first step was to \"encode\" (transform) the data as the following : as a single 'messid' is represented several times in the data (for each base station that received its signal), we decided to keep only one row for each messid, having columns corresponding to the base stations that received its signal : this is 'one-hot encoding'\n",
    "\n",
    "Then \n",
    "\n",
    "- We decided to go further than simple \"one-hot encoding\" of base stations and created encoded features using the following : latitude, longitude, rssi, nseq. This means we have now for each base station several columns : its latitude, longitude, rssi and nseq."
   ]
  },
  {
   "cell_type": "code",
   "execution_count": 6,
   "metadata": {
    "ExecuteTime": {
     "end_time": "2019-01-09T20:00:59.490774Z",
     "start_time": "2019-01-09T20:00:36.151592Z"
    }
   },
   "outputs": [],
   "source": [
    "## One-hot encoding of base stations\n",
    "# Train test\n",
    "train_base_station = np.unique(df_mess_train['bsid'])\n",
    "# Test set\n",
    "test_base_station = np.unique(df_mess_test['bsid'])\n",
    "\n",
    "# Columns of base stations in test set\n",
    "data_baseid = pd.get_dummies(df_mess_test['bsid'])\n",
    "\n",
    "# Adding columns of base stations in train set that are not in test set\n",
    "for base in train_base_station :\n",
    "    if base not in test_base_station:\n",
    "        new_col = pd.DataFrame(np.zeros(data_baseid.shape[0]))\n",
    "        new_col.columns = [base]\n",
    "        data_baseid = pd.concat([data_baseid, new_col], axis=1)\n",
    "\n",
    "## Definition of new feature columns\n",
    "# Create and name base long, lat, rssi and nseq columns\n",
    "newcolumns_lat = {col : \"lat_\"+str(col) for col in data_baseid.columns}\n",
    "newcolumns_lng = {col : \"lng_\"+str(col) for col in data_baseid.columns}\n",
    "newcolumns_rssi = {col : \"rssi_\"+str(col) for col in data_baseid.columns}\n",
    "newcolumns_nseq = {col : \"nseq_\"+str(col) for col in data_baseid.columns}\n",
    "\n",
    "# Renaming columns\n",
    "data_baseid = data_baseid.astype('int')\n",
    "data_latid = data_baseid.rename(columns=newcolumns_lat)\n",
    "data_lngid = data_baseid.rename(columns=newcolumns_lng)\n",
    "data_rssi = data_baseid.rename(columns=newcolumns_rssi)\n",
    "data_nseq = data_baseid.rename(columns=newcolumns_nseq)\n",
    "\n",
    "# Creating new features\n",
    "for col in data_lngid.columns :\n",
    "    data_lngid[col] = data_lngid[col]*df_mess_train['bs_lng']\n",
    "\n",
    "for col in data_latid.columns :\n",
    "    data_latid[col] = data_latid[col]*df_mess_train['bs_lat']\n",
    "\n",
    "for col in data_rssi.columns :\n",
    "    data_rssi[col] = data_rssi[col]*df_mess_train['rssi']\n",
    "\n",
    "for col in data_nseq.columns :\n",
    "    data_nseq[col] = data_nseq[col]*df_mess_train['nseq']\n",
    "\n",
    "## Concatenation in one dataset\n",
    "new_df = df_mess_train['messid']\n",
    "new_df = pd.concat([new_df, data_latid, data_lngid, data_rssi,  data_nseq], axis=1)\n",
    "\n",
    "## Using groupby() to keep only one row per messid and getting final dataFrame of features\n",
    "df_feat = new_df.groupby('messid').agg('sum')"
   ]
  },
  {
   "cell_type": "markdown",
   "metadata": {
    "ExecuteTime": {
     "start_time": "2019-01-09T09:32:19.333Z"
    }
   },
   "source": [
    "### New features"
   ]
  },
  {
   "cell_type": "markdown",
   "metadata": {
    "ExecuteTime": {
     "end_time": "2019-01-09T12:26:54.577231Z",
     "start_time": "2019-01-09T12:26:54.562738Z"
    }
   },
   "source": [
    "#### Centroid of base stations"
   ]
  },
  {
   "cell_type": "markdown",
   "metadata": {},
   "source": [
    "Then we decided to build a new feature : the centroid (latitude and longitude) of the base stations. \n",
    "\n",
    "Indeed, as shown below, as a message is received by one or more base station, there is great probability that it would be located next to the centroid of the base stations that received its signal"
   ]
  },
  {
   "cell_type": "code",
   "execution_count": 26,
   "metadata": {
    "ExecuteTime": {
     "end_time": "2019-01-09T20:18:17.278323Z",
     "start_time": "2019-01-09T20:18:17.266503Z"
    },
    "code_folding": [
     1
    ],
    "run_control": {
     "marked": false
    }
   },
   "outputs": [],
   "source": [
    "# Function that plots the location of base stations and their centroid of a given message\n",
    "def plot_bases(message_index):\n",
    "    base_lat = [x for x in df_feat[list(newcolumns_lat.values())].iloc[message_index] if x!=0]\n",
    "    base_lng = [x for x in df_feat[list(newcolumns_lng.values())].iloc[message_index] if x!=0]\n",
    "    plt.plot(base_lng, base_lat, 'ob', label='Base stations')\n",
    "    plt.plot(np.mean(base_lng), np.mean(base_lat), 'or', label=\"Centroid\")\n",
    "    plt.title('Centroid of Base Stations that received message :\\n \" {} \" '.format(df_feat.index[message_index]))\n",
    "    plt.xlabel('Longitude')\n",
    "    plt.ylabel('Latitude')"
   ]
  },
  {
   "cell_type": "code",
   "execution_count": 27,
   "metadata": {
    "ExecuteTime": {
     "end_time": "2019-01-09T20:18:21.215365Z",
     "start_time": "2019-01-09T20:18:20.530610Z"
    },
    "run_control": {
     "marked": true
    }
   },
   "outputs": [
    {
     "data": {
      "image/png": "[encoded data removed]",
      "text/plain": [
       "<matplotlib.figure.Figure at 0x1a1b25d908>"
      ]
     },
     "metadata": {},
     "output_type": "display_data"
    }
   ],
   "source": [
    "# Plot of the location of base stations and their centroid for a few message\n",
    "plt.figure(figsize=(15,14))\n",
    "\n",
    "for i in range(4):\n",
    "    plt.subplot(221+i)\n",
    "    plot_bases((i+5)*(10*i))\n",
    "    plt.legend()\n",
    "\n",
    "plt.show()"
   ]
  },
  {
   "cell_type": "code",
   "execution_count": 9,
   "metadata": {
    "ExecuteTime": {
     "end_time": "2019-01-09T20:03:12.212634Z",
     "start_time": "2019-01-09T20:01:02.129349Z"
    },
    "run_control": {
     "marked": true
    }
   },
   "outputs": [],
   "source": [
    "# Definition of centroid of latitude and longitude of base stations for each message\n",
    "centroid_bs_lat = []\n",
    "centroid_bs_lng = []\n",
    "\n",
    "for i in range(df_feat.shape[0]):\n",
    "    base_lat = [x for x in df_feat[list(newcolumns_lat.values())].iloc[i] if x!=0]\n",
    "    base_lng = [x for x in df_feat[list(newcolumns_lng.values())].iloc[i] if x!=0]\n",
    "    centroid_bs_lat.append(np.mean(base_lat))\n",
    "    centroid_bs_lng.append(np.mean(base_lng))"
   ]
  },
  {
   "cell_type": "code",
   "execution_count": 10,
   "metadata": {
    "ExecuteTime": {
     "end_time": "2019-01-09T20:03:12.803224Z",
     "start_time": "2019-01-09T20:03:12.794879Z"
    }
   },
   "outputs": [],
   "source": [
    "df_feat[\"centroid_bs_lat\"] = centroid_bs_lat\n",
    "df_feat[\"centroid_bs_lng\"] = centroid_bs_lng"
   ]
  },
  {
   "cell_type": "markdown",
   "metadata": {
    "ExecuteTime": {
     "end_time": "2019-01-09T12:27:24.106970Z",
     "start_time": "2019-01-09T12:27:24.104013Z"
    }
   },
   "source": [
    "#### Transformation of rssi"
   ]
  },
  {
   "cell_type": "markdown",
   "metadata": {},
   "source": [
    "It has been scientifically proved that the power of an electromagnetic wave decreases with the distance it travels.\n",
    "Actually, a coefficient of attenuation applies to this power and is exponentially related to the distance the wave travels.\n",
    "\n",
    "The feature rssi being the measure of the power of the signal measured by the base station (rssi = 1/10 * log(Signal Power)),  when plotting the rssi vs. the distance between the position of the device and the base station that received its message, we should see an exponential decreasing trend (at square scale)\n",
    "\n",
    "The plot below reveals this very trend. It can be noticed that all the points do not \"fit\" with the trend and are not the same from the device to another : it might be due to :\n",
    "- obstacles encountered by the message during its travel\n",
    "- difference of nominal power between devices"
   ]
  },
  {
   "cell_type": "code",
   "execution_count": 30,
   "metadata": {
    "ExecuteTime": {
     "end_time": "2019-01-09T21:04:20.862887Z",
     "start_time": "2019-01-09T21:04:20.859614Z"
    }
   },
   "outputs": [],
   "source": [
    " ### Plot @Théo"
   ]
  },
  {
   "cell_type": "markdown",
   "metadata": {},
   "source": [
    "Despite the potential perturbations in the signal travel, we decided to transform the variable 'rssi' applying the scare root of its exponential. This transformed feature should be representative of the distance the wave travelled (putting aside perturbations)"
   ]
  },
  {
   "cell_type": "code",
   "execution_count": 11,
   "metadata": {
    "ExecuteTime": {
     "end_time": "2019-01-09T20:03:20.032497Z",
     "start_time": "2019-01-09T20:03:13.436370Z"
    }
   },
   "outputs": [],
   "source": [
    "# Creating new_rssi columns\n",
    "df_mess_train['new_rssi'] = np.sqrt(np.exp(df_mess_train['rssi'] ))\n",
    "\n",
    "newcolumns_newrssi = {col : \"new_rssi_\"+str(col) for col in data_baseid.columns}\n",
    "data_new_rssi = data_baseid.rename(columns=newcolumns_newrssi)\n",
    "\n",
    "for col in data_new_rssi.columns :\n",
    "    data_new_rssi[col] = data_new_rssi[col]*df_mess_train['new_rssi']\n",
    "\n",
    "# Rebuilding the feature dataframe \n",
    "new_df = df_mess_train['messid']\n",
    "new_df = pd.concat([new_df, data_latid, data_lngid, data_rssi, data_new_rssi, data_nseq], axis=1)\n",
    "\n",
    "## Grouping by messid\n",
    "df_feat = new_df.groupby('messid').agg('sum')\n",
    "df_feat[\"centroid_bs_lat\"] = centroid_bs_lat\n",
    "df_feat[\"centroid_bs_lng\"] = centroid_bs_lng"
   ]
  },
  {
   "cell_type": "markdown",
   "metadata": {
    "ExecuteTime": {
     "end_time": "2019-01-09T12:27:52.581683Z",
     "start_time": "2019-01-09T12:27:52.578743Z"
    }
   },
   "source": [
    "#### Rssi-weighted centroid of base station"
   ]
  },
  {
   "cell_type": "markdown",
   "metadata": {},
   "source": [
    "Having now a feature that should reflect the distance between the base station and where the message received was emitted, we thought it would be worth it trying to build a new feature : the weigthed centroids of base stations using the new feature previously created.\n",
    "\n",
    "Indeed the closer the message is to a station, the more this station should count in the computation of the centroids of stations."
   ]
  },
  {
   "cell_type": "code",
   "execution_count": 21,
   "metadata": {
    "ExecuteTime": {
     "end_time": "2019-01-09T20:12:08.206583Z",
     "start_time": "2019-01-09T20:12:06.137134Z"
    }
   },
   "outputs": [],
   "source": [
    "## Computation of the weighted centroid of base stations\n",
    "listOfBs = np.union1d(np.unique(df_mess_train['bsid']), np.unique(df_mess_test['bsid']))\n",
    "bases_num = len(listOfBs)\n",
    "\n",
    "bases_dict = {}\n",
    "for i, column in enumerate(listOfBs):\n",
    "    bases_dict[column] = i\n",
    "\n",
    "lat_array = np.zeros((df_mess_train.shape[0], bases_num))\n",
    "lng_array = np.zeros((df_mess_train.shape[0], bases_num))\n",
    "weights_array = np.zeros((df_mess_train.shape[0], bases_num))\n",
    "\n",
    "for i in df_mess_train.index:\n",
    "    # getting bsid for current row\n",
    "    bsid = df_mess_train.loc[i, 'bsid']\n",
    "    # getting colum to assign value in bases_array\n",
    "    column = bases_dict[bsid]\n",
    "    # assigning weight (sqrt(rssi)) value to cell in bases array\n",
    "    weight = np.exp(df_mess_train.loc[i, 'rssi'])**(1/2)\n",
    "    lat_array[i, column] = weight * df_mess_train.loc[i, 'bs_lat']\n",
    "    lng_array[i, column] = weight * df_mess_train.loc[i, 'bs_lng']\n",
    "    weights_array[i, column] = weight\n",
    "\n",
    "# Transforming data arrays into dataframes\n",
    "lat_df = pd.DataFrame(lat_array)\n",
    "lng_df = pd.DataFrame(lng_array)\n",
    "weights_df = pd.DataFrame(weights_array)\n",
    "# Adding messid column to each data-frame (lat, lng and weights)\n",
    "lat_df['messid'] = df_mess_train['messid']\n",
    "lng_df['messid'] = df_mess_train['messid']\n",
    "weights_df['messid'] = df_mess_train['messid']\n",
    "\n",
    "#Grouping\n",
    "lat = lat_df.groupby('messid').sum().sum(axis=1)\n",
    "lng = lng_df.groupby('messid').sum().sum(axis=1)\n",
    "weights = weights_df.groupby('messid').sum().sum(axis=1)\n",
    "\n",
    "# Normalizing by sum of weights\n",
    "df_weigh = pd.DataFrame([lat, lng], index=['lat','lng'])\n",
    "df_weigh = (df_weigh/weights).T"
   ]
  },
  {
   "cell_type": "markdown",
   "metadata": {},
   "source": [
    "The plot below help picture the changes between the new weighted centroid and the previous one "
   ]
  },
  {
   "cell_type": "code",
   "execution_count": 28,
   "metadata": {
    "ExecuteTime": {
     "end_time": "2019-01-09T20:18:29.512965Z",
     "start_time": "2019-01-09T20:18:28.785028Z"
    }
   },
   "outputs": [
    {
     "data": {
      "image/png": "[encoded data removed]",
      "text/plain": [
       "<matplotlib.figure.Figure at 0x1a19187b70>"
      ]
     },
     "metadata": {},
     "output_type": "display_data"
    }
   ],
   "source": [
    "# Plot of the location of base stations and their centroid for a few message\n",
    "plt.figure(figsize=(15,14))\n",
    "\n",
    "for i in range(4):\n",
    "    plt.subplot(221+i)\n",
    "    plot_bases((i+5)*(10*i))\n",
    "    plt.plot(df_weigh['lng'].iloc[(i+5)*(10*i)], df_weigh['lat'].iloc[(i+5)*(10*i)], 'og', label='Weighted centroid')\n",
    "    plt.legend()\n",
    "plt.show()"
   ]
  },
  {
   "cell_type": "markdown",
   "metadata": {
    "ExecuteTime": {
     "end_time": "2019-01-09T21:05:08.790725Z",
     "start_time": "2019-01-09T21:05:08.784692Z"
    }
   },
   "source": [
    "#### Definition of final feature matrix"
   ]
  },
  {
   "cell_type": "markdown",
   "metadata": {},
   "source": [
    "Once we created the features mentionned above, we tested with cross validation the performance of different models on different combination of the features:\n",
    "- all together\n",
    "- all together without weighted centroid\n",
    "- all together without \"normal\" centroid\n",
    "- \"normal\" centroid only\n",
    "- weighted centroid only\n",
    "\n",
    "Ultimately, it appeared the combination of features that provided us with the best performance score was the last one : when using only weighted centroids of latitude and longitude.\n",
    "Fortunately, this helps reduce the dimension of the feature matrix, hence the computation time when training and testing our algorithms for best model selection.\n",
    "\n",
    "** Below is the function that builds the feature matrix we will use for the rest of the project**"
   ]
  },
  {
   "cell_type": "code",
   "execution_count": 32,
   "metadata": {
    "ExecuteTime": {
     "end_time": "2019-01-09T21:10:16.196503Z",
     "start_time": "2019-01-09T21:10:16.091033Z"
    },
    "run_control": {
     "marked": true
    }
   },
   "outputs": [],
   "source": [
    "# Final feature matrix function that only builds the features we want to keep\n",
    "\n",
    "def feat_mat_const_centroid(df_mess_train, listOfBs):\n",
    "    ''' \n",
    "    Method used for creation of features. It uses numpy for calculations due to optimization issues\n",
    "    \n",
    "    Parameters\n",
    "    ----------\n",
    "    df_mess_train: raw dataFrame with input data\n",
    "    listOfBs: list of unique bases present in both train and test sets\n",
    "    \n",
    "    Returns\n",
    "    -------\n",
    "    df_feat: modified dataFrame with created features: longitude and latitude of the (weighted) \n",
    "    centroid of the bases that detected each message\n",
    "    '''\n",
    "    \n",
    "    bases_num = len(listOfBs)\n",
    "    \n",
    "    # One-hot encoding of the data : from rows to columns\n",
    "    \n",
    "    # Dictionnary that will track the column in the numpy array and its correpondent base \n",
    "    bases_dict = {}\n",
    "    for i, column in enumerate(listOfBs):\n",
    "        bases_dict[column] = i\n",
    "    \n",
    "    \n",
    "    # Creating array to be transformed at feature matrix (columns = features)\n",
    "    lat_array = np.zeros((df_mess_train.shape[0], bases_num))\n",
    "    lng_array = np.zeros((df_mess_train.shape[0], bases_num))\n",
    "    weights_array = np.zeros((df_mess_train.shape[0], bases_num))\n",
    "    \n",
    "    # assigning values for new features\n",
    "    for i in df_mess_train.index:\n",
    "        # getting bsid for current row\n",
    "        bsid = df_mess_train.loc[i, 'bsid']\n",
    "        # getting colum to assign value in bases_array\n",
    "        column = bases_dict[bsid]\n",
    "        # assigning weight (sqrt(rssi)) value to cell in bases array\n",
    "        weight = np.exp(df_mess_train.loc[i, 'rssi'])**(1/2)\n",
    "        lat_array[i, column] = weight * df_mess_train.loc[i, 'bs_lat']\n",
    "        lng_array[i, column] = weight * df_mess_train.loc[i, 'bs_lng']\n",
    "        weights_array[i, column] = weight\n",
    "    \n",
    "    # Tranforming bases_array to dataFrame in order to use .groupby()\n",
    "\n",
    "    lat_df = pd.DataFrame(lat_array)\n",
    "    lng_df = pd.DataFrame(lng_array)\n",
    "    weights_df = pd.DataFrame(weights_array)\n",
    "    \n",
    "    \n",
    "    # Using groupby() and getting final dataFrame of features\n",
    "    \n",
    "    # Adding messid column to each data-frame (lat, lng and weights)\n",
    "    lat_df['messid'] = df_mess_train['messid']\n",
    "    lng_df['messid'] = df_mess_train['messid']\n",
    "    weights_df['messid'] = df_mess_train['messid']\n",
    "    \n",
    "    lat = lat_df.groupby('messid').sum().sum(axis=1)\n",
    "    lng = lng_df.groupby('messid').sum().sum(axis=1)\n",
    "    weights = weights_df.groupby('messid').sum().sum(axis=1)\n",
    "    \n",
    "    # Normalizing\n",
    "    df_feat = pd.DataFrame([lat, lng], index=['lat','lng'])\n",
    "    df_feat = (df_feat/weights).T\n",
    "    \n",
    "    return df_feat"
   ]
  },
  {
   "cell_type": "markdown",
   "metadata": {},
   "source": [
    "## Outliers processing I [André]"
   ]
  },
  {
   "cell_type": "code",
   "execution_count": null,
   "metadata": {},
   "outputs": [],
   "source": []
  },
  {
   "cell_type": "code",
   "execution_count": null,
   "metadata": {},
   "outputs": [],
   "source": []
  },
  {
   "cell_type": "markdown",
   "metadata": {},
   "source": [
    "## Model [Mathieu / Matyas / André]"
   ]
  },
  {
   "cell_type": "code",
   "execution_count": null,
   "metadata": {},
   "outputs": [],
   "source": []
  },
  {
   "cell_type": "markdown",
   "metadata": {},
   "source": [
    "### First raw predictions"
   ]
  },
  {
   "cell_type": "code",
   "execution_count": null,
   "metadata": {},
   "outputs": [],
   "source": []
  },
  {
   "cell_type": "code",
   "execution_count": null,
   "metadata": {},
   "outputs": [],
   "source": []
  },
  {
   "cell_type": "code",
   "execution_count": null,
   "metadata": {},
   "outputs": [],
   "source": []
  },
  {
   "cell_type": "markdown",
   "metadata": {},
   "source": [
    "### Outliers processing II"
   ]
  },
  {
   "cell_type": "code",
   "execution_count": null,
   "metadata": {},
   "outputs": [],
   "source": []
  },
  {
   "cell_type": "code",
   "execution_count": null,
   "metadata": {},
   "outputs": [],
   "source": []
  },
  {
   "cell_type": "markdown",
   "metadata": {},
   "source": [
    "### Fine-tunning / Model selection"
   ]
  },
  {
   "cell_type": "code",
   "execution_count": null,
   "metadata": {},
   "outputs": [],
   "source": []
  },
  {
   "cell_type": "code",
   "execution_count": null,
   "metadata": {},
   "outputs": [],
   "source": []
  },
  {
   "cell_type": "markdown",
   "metadata": {},
   "source": [
    "### Blending"
   ]
  },
  {
   "cell_type": "code",
   "execution_count": null,
   "metadata": {},
   "outputs": [],
   "source": []
  },
  {
   "cell_type": "code",
   "execution_count": null,
   "metadata": {},
   "outputs": [],
   "source": []
  },
  {
   "cell_type": "markdown",
   "metadata": {},
   "source": [
    "## Test analysis [André] "
   ]
  },
  {
   "cell_type": "code",
   "execution_count": null,
   "metadata": {},
   "outputs": [],
   "source": []
  }
 ],
 "metadata": {
  "hide_input": false,
  "kernelspec": {
   "display_name": "Python 3",
   "language": "python",
   "name": "python3"
  },
  "language_info": {
   "codemirror_mode": {
    "name": "ipython",
    "version": 3
   },
   "file_extension": ".py",
   "mimetype": "text/x-python",
   "name": "python",
   "nbconvert_exporter": "python",
   "pygments_lexer": "ipython3",
   "version": "3.6.4"
  },
  "toc": {
   "base_numbering": 1,
   "nav_menu": {},
   "number_sections": true,
   "sideBar": true,
   "skip_h1_title": true,
   "title_cell": "Table of Contents",
   "title_sidebar": "Contents",
   "toc_cell": false,
   "toc_position": {},
   "toc_section_display": true,
   "toc_window_display": true
  },
  "varInspector": {
   "cols": {
    "lenName": 16,
    "lenType": 16,
    "lenVar": 40
   },
   "kernels_config": {
    "python": {
     "delete_cmd_postfix": "",
     "delete_cmd_prefix": "del ",
     "library": "var_list.py",
     "varRefreshCmd": "print(var_dic_list())"
    },
    "r": {
     "delete_cmd_postfix": ") ",
     "delete_cmd_prefix": "rm(",
     "library": "var_list.r",
     "varRefreshCmd": "cat(var_dic_list()) "
    }
   },
   "types_to_exclude": [
    "module",
    "function",
    "builtin_function_or_method",
    "instance",
    "_Feature"
   ],
   "window_display": false
  }
 },
 "nbformat": 4,
 "nbformat_minor": 2
}
